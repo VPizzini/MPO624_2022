{
 "cells": [
  {
   "cell_type": "code",
   "execution_count": 2,
   "id": "fa343c2e-3b0c-4506-98b5-2ec2a66bda3c",
   "metadata": {},
   "outputs": [],
   "source": [
    "import pandas as pd\n",
    "import numpy as np \n",
    "import matplotlib.pyplot as plt\n",
    "import metpy"
   ]
  },
  {
   "cell_type": "code",
   "execution_count": 8,
   "id": "e25e167a-5ffc-4e9a-bea5-7dab82347ee7",
   "metadata": {},
   "outputs": [
    {
     "ename": "SyntaxError",
     "evalue": "(unicode error) 'unicodeescape' codec can't decode bytes in position 0-1: truncated \\UXXXXXXXX escape (3290371213.py, line 8)",
     "output_type": "error",
     "traceback": [
      "\u001b[1;36m  File \u001b[1;32m\"C:\\Users\\torip\\AppData\\Local\\Temp\\ipykernel_38544\\3290371213.py\"\u001b[1;36m, line \u001b[1;32m8\u001b[0m\n\u001b[1;33m    df = pd.read_csv('\\Users\\torip\\OneDrive\\Desktop\\IDA 20210826U1.01.txt', sep = \"\\t\")\u001b[0m\n\u001b[1;37m                     ^\u001b[0m\n\u001b[1;31mSyntaxError\u001b[0m\u001b[1;31m:\u001b[0m (unicode error) 'unicodeescape' codec can't decode bytes in position 0-1: truncated \\UXXXXXXXX escape\n"
     ]
    }
   ],
   "source": [
    "# Dropsonde access:\n",
    "# https://www.aoml.noaa.gov/ftp/hrd/data/flightlevel/2021/ida/20210826U1.01.txt\n",
    "# No need to download! read directly from the Web, it is small data.  \n",
    "# I had to manually make column names,\n",
    "cnames = ['GMT_Time', 'ADR', 'AOA', 'BCA','BSP','CAS', 'CSP', 'DPR', 'GPSA', 'GS', 'IA', 'ISP', 'LAT', 'LON', 'PA', 'PITCH', 'PR', 'PT', 'RA', 'ROLL', 'SS', 'TA', 'TAS', 'THD', 'TRK', 'TT', 'VE', 'VN', 'V', 'V', 'WDir', 'WSpd', 'TD', 'RR', 'SWS', 'CC', 'DVAL']\n",
    "\n",
    "filename = 'https://www.aoml.noaa.gov/ftp/hrd/data/flightlevel/2021/ida/20210826U1.01.txt'\n",
    "df = pd.read_csv('\\Users\\torip\\OneDrive\\Desktop\\IDA 20210826U1.01.txt', sep = \"\\t\")\n",
    "df \n"
   ]
  },
  {
   "cell_type": "code",
   "execution_count": null,
   "id": "96145dc1-3dde-49f4-b59e-ef8173694507",
   "metadata": {},
   "outputs": [],
   "source": []
  }
 ],
 "metadata": {
  "kernelspec": {
   "display_name": "Python 3 (ipykernel)",
   "language": "python",
   "name": "python3"
  },
  "language_info": {
   "codemirror_mode": {
    "name": "ipython",
    "version": 3
   },
   "file_extension": ".py",
   "mimetype": "text/x-python",
   "name": "python",
   "nbconvert_exporter": "python",
   "pygments_lexer": "ipython3",
   "version": "3.8.12"
  }
 },
 "nbformat": 4,
 "nbformat_minor": 5
}
